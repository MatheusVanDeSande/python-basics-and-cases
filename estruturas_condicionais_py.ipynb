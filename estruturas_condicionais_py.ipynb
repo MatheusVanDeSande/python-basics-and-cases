{
  "nbformat": 4,
  "nbformat_minor": 0,
  "metadata": {
    "colab": {
      "provenance": [],
      "authorship_tag": "ABX9TyNk0NAlO9L4ntTAIs15DCqc",
      "include_colab_link": true
    },
    "kernelspec": {
      "name": "python3",
      "display_name": "Python 3"
    },
    "language_info": {
      "name": "python"
    }
  },
  "cells": [
    {
      "cell_type": "markdown",
      "metadata": {
        "id": "view-in-github",
        "colab_type": "text"
      },
      "source": [
        "<a href=\"https://colab.research.google.com/github/MatheusVanDeSande/python-basics-and-cases/blob/main/estruturas_condicionais_py.ipynb\" target=\"_parent\"><img src=\"https://colab.research.google.com/assets/colab-badge.svg\" alt=\"Open In Colab\"/></a>"
      ]
    },
    {
      "cell_type": "code",
      "execution_count": null,
      "metadata": {
        "colab": {
          "base_uri": "https://localhost:8080/"
        },
        "id": "xmf6bHAlCN9p",
        "outputId": "fcf8b55b-dba7-4b95-cc34-95f2ab4945d3"
      },
      "outputs": [
        {
          "output_type": "stream",
          "name": "stdout",
          "text": [
            "Nenhuma condição é verdadeira\n"
          ]
        }
      ],
      "source": [
        "# Estruturas condicionais\n",
        "# SE: 1a condição\n",
        "# SENÃO: 2a condição\n",
        "# ENTÃO: 3a condição\n",
        "\n",
        "condicao = 3>6\n",
        "condicao2 = 5<1\n",
        "\n",
        "if condicao:\n",
        "  print(\"3<6 é verdadeiro\")\n",
        "elif condicao2:\n",
        "  print(\"5>1 é verdadeiro\")\n",
        "else:\n",
        "  print(\"Nenhuma condição é verdadeira\")"
      ]
    },
    {
      "cell_type": "code",
      "source": [
        "num = int(input(\"Digite um número: \"))\n",
        "\n",
        "if num > 0:\n",
        "  print(\"O número é maior que zero\")\n",
        "elif num < 0:\n",
        "  print(\"O número é menor que zero\")\n",
        "else:\n",
        "  print(\"O número é igual a zero\")"
      ],
      "metadata": {
        "colab": {
          "base_uri": "https://localhost:8080/"
        },
        "id": "HgAmRJTeDdRX",
        "outputId": "411b1559-aec2-4a4b-8582-94bfa8df2231"
      },
      "execution_count": null,
      "outputs": [
        {
          "output_type": "stream",
          "name": "stdout",
          "text": [
            "Digite um número: 2\n",
            "O número é maior que zero\n"
          ]
        }
      ]
    },
    {
      "cell_type": "code",
      "source": [
        "saldo = 2568\n",
        "\n",
        "print(\"MENU\")\n",
        "print(\"1 - Ver saldo\")\n",
        "print(\"2 - Realizar depósito\")\n",
        "print(\"3 - Sair\")\n",
        "\n",
        "opcao = int(input(\"Digite a opção desejada: \"))\n",
        "\n",
        "if opcao == 1:\n",
        "  print(f\"Seu saldo é de R$ {saldo}\")\n",
        "  print(\"Obrigado por usar nossos serviços\")\n",
        "elif opcao == 2:\n",
        "  deposito = float(input(\"Digite o valor do depósito: \"))\n",
        "  saldo += deposito\n",
        "  print(f\"Seu saldo é de R$ {saldo}\")\n",
        "  print(\"Obrigado por usar nossos serviços\")\n",
        "elif opcao == 3:\n",
        "  print(\"Obrigado por usar nossos serviços\")\n",
        "else:\n",
        "  print(\"Opção inválida\")"
      ],
      "metadata": {
        "colab": {
          "base_uri": "https://localhost:8080/"
        },
        "id": "OKmlo-YsD6AC",
        "outputId": "db7e18ad-b9ee-4d22-8755-64fed2f4c620"
      },
      "execution_count": null,
      "outputs": [
        {
          "output_type": "stream",
          "name": "stdout",
          "text": [
            "MENU\n",
            "1 - Ver saldo\n",
            "2 - Realizar depósito\n",
            "3 - Sair\n",
            "Digite a opção desejada: 2\n",
            "Digite o valor do depósito: 1\n",
            "Seu saldo é de R$ 2569.0\n",
            "Obrigado por usar nossos serviços\n"
          ]
        }
      ]
    },
    {
      "cell_type": "code",
      "source": [
        "# LAÇOS DE REPETIÇÃO\n",
        "for elemento in range(0,11,2):\n",
        "  print(elemento)\n"
      ],
      "metadata": {
        "colab": {
          "base_uri": "https://localhost:8080/"
        },
        "id": "S8yLd_1FGH4R",
        "outputId": "ad75c711-86cc-43a1-c7eb-9691be3c3566"
      },
      "execution_count": null,
      "outputs": [
        {
          "output_type": "stream",
          "name": "stdout",
          "text": [
            "0\n",
            "2\n",
            "4\n",
            "6\n",
            "8\n",
            "10\n"
          ]
        }
      ]
    },
    {
      "cell_type": "code",
      "source": [
        "soma = 0\n",
        "soma = 0\n",
        "for numero in range(21):\n",
        "  soma = soma + numero\n",
        "  print('Soma parcial', soma)\n",
        "print(soma)"
      ],
      "metadata": {
        "colab": {
          "base_uri": "https://localhost:8080/"
        },
        "id": "lC0CPE1lGr1G",
        "outputId": "fe944c8a-c2b5-4fd3-ab1f-07f7b3c1e0f3"
      },
      "execution_count": null,
      "outputs": [
        {
          "output_type": "stream",
          "name": "stdout",
          "text": [
            "Soma parcial 0\n",
            "Soma parcial 1\n",
            "Soma parcial 3\n",
            "Soma parcial 6\n",
            "Soma parcial 10\n",
            "Soma parcial 15\n",
            "Soma parcial 21\n",
            "Soma parcial 28\n",
            "Soma parcial 36\n",
            "Soma parcial 45\n",
            "Soma parcial 55\n",
            "Soma parcial 66\n",
            "Soma parcial 78\n",
            "Soma parcial 91\n",
            "Soma parcial 105\n",
            "Soma parcial 120\n",
            "Soma parcial 136\n",
            "Soma parcial 153\n",
            "Soma parcial 171\n",
            "Soma parcial 190\n",
            "Soma parcial 210\n",
            "210\n"
          ]
        }
      ]
    },
    {
      "cell_type": "code",
      "source": [
        "n = 5\n",
        "fatorial = 1\n",
        "for i in range(1, n+1):\n",
        "  fatorial = fatorial * i\n",
        "print(f\"O fatorial de n é {fatorial}\")"
      ],
      "metadata": {
        "colab": {
          "base_uri": "https://localhost:8080/"
        },
        "id": "0s3JoqDmHzFR",
        "outputId": "f4338b05-c0c0-41ca-93b1-1bae76605258"
      },
      "execution_count": null,
      "outputs": [
        {
          "output_type": "stream",
          "name": "stdout",
          "text": [
            "O fatorial de n é 120\n"
          ]
        }
      ]
    },
    {
      "cell_type": "code",
      "source": [
        "# LAÇO WHILE E CONTROLE DE FLUXO\n",
        "# Laço de repetição com uma estrutura condicional\n",
        "contador = 5\n",
        "\n",
        "while contador >= 0:\n",
        "  print(contador)\n",
        "  contador -= 1"
      ],
      "metadata": {
        "colab": {
          "base_uri": "https://localhost:8080/"
        },
        "id": "f4OHVC0zIEAt",
        "outputId": "a5ac646b-2e28-43b7-f197-ddf4a6b1c77e"
      },
      "execution_count": null,
      "outputs": [
        {
          "output_type": "stream",
          "name": "stdout",
          "text": [
            "5\n",
            "4\n",
            "3\n",
            "2\n",
            "1\n",
            "0\n"
          ]
        }
      ]
    },
    {
      "cell_type": "code",
      "source": [
        "i = 1\n",
        "while i <= 20:\n",
        "  if i % 2 == 0:\n",
        "    i += 1\n",
        "    continue\n",
        "  print(\"Número impar:\", i)\n",
        "  i+=1"
      ],
      "metadata": {
        "colab": {
          "base_uri": "https://localhost:8080/"
        },
        "id": "w9pTF8kBWERR",
        "outputId": "f35eb94d-be90-468f-94ae-57382d7ebd53"
      },
      "execution_count": null,
      "outputs": [
        {
          "output_type": "stream",
          "name": "stdout",
          "text": [
            "Número impar: 1\n",
            "Número impar: 3\n",
            "Número impar: 5\n",
            "Número impar: 7\n",
            "Número impar: 9\n",
            "Número impar: 11\n",
            "Número impar: 13\n",
            "Número impar: 15\n",
            "Número impar: 17\n",
            "Número impar: 19\n"
          ]
        }
      ]
    },
    {
      "cell_type": "code",
      "source": [
        "soma = 0\n",
        "numero = 1\n",
        "while True:\n",
        "  soma += numero\n",
        "  if soma > 100:\n",
        "    break\n",
        "  numero += 1\n",
        "  print(\"Soma parcial: \", soma)\n",
        "print(\"Soma final: \", soma)\n"
      ],
      "metadata": {
        "colab": {
          "base_uri": "https://localhost:8080/"
        },
        "id": "gFxn1WU1gp1b",
        "outputId": "c887bd96-7299-4218-c5cf-6468e8ca7c52"
      },
      "execution_count": null,
      "outputs": [
        {
          "output_type": "stream",
          "name": "stdout",
          "text": [
            "Soma parcial:  1\n",
            "Soma parcial:  3\n",
            "Soma parcial:  6\n",
            "Soma parcial:  10\n",
            "Soma parcial:  15\n",
            "Soma parcial:  21\n",
            "Soma parcial:  28\n",
            "Soma parcial:  36\n",
            "Soma parcial:  45\n",
            "Soma parcial:  55\n",
            "Soma parcial:  66\n",
            "Soma parcial:  78\n",
            "Soma parcial:  91\n",
            "Soma final:  105\n"
          ]
        }
      ]
    },
    {
      "cell_type": "code",
      "source": [],
      "metadata": {
        "id": "DR-THrNCkkzO"
      },
      "execution_count": null,
      "outputs": []
    }
  ]
}