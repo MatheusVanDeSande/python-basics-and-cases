{
  "nbformat": 4,
  "nbformat_minor": 0,
  "metadata": {
    "colab": {
      "provenance": [],
      "authorship_tag": "ABX9TyOzZA5e3vtB8CEKQVU2GJ69",
      "include_colab_link": true
    },
    "kernelspec": {
      "name": "python3",
      "display_name": "Python 3"
    },
    "language_info": {
      "name": "python"
    }
  },
  "cells": [
    {
      "cell_type": "markdown",
      "metadata": {
        "id": "view-in-github",
        "colab_type": "text"
      },
      "source": [
        "<a href=\"https://colab.research.google.com/github/MatheusVanDeSande/python-basics-and-cases/blob/main/Introdu%C3%A7%C3%A3o_python.ipynb\" target=\"_parent\"><img src=\"https://colab.research.google.com/assets/colab-badge.svg\" alt=\"Open In Colab\"/></a>"
      ]
    },
    {
      "cell_type": "code",
      "execution_count": null,
      "metadata": {
        "colab": {
          "base_uri": "https://localhost:8080/"
        },
        "id": "3sYuWYdDGYIM",
        "outputId": "c355ae24-e3ff-4026-cc75-dedbffb7d8ff"
      },
      "outputs": [
        {
          "output_type": "stream",
          "name": "stdout",
          "text": [
            "hello world porra\n"
          ]
        }
      ],
      "source": [
        "# comentario\n",
        "print('Minha primeira linha de código em Python')"
      ]
    },
    {
      "cell_type": "code",
      "source": [
        "# VARIAVEIS = ONDE SE ARMAZENA VALORES\n",
        "# variavel = valor\n",
        "nome = 'Matheus' # string\n",
        "idade = 28       # int\n",
        "cidade = 'Rio de Janeiro' # string\n",
        "altura = 1.87    # float\n",
        "\n"
      ],
      "metadata": {
        "id": "ZACLhRI0Xa9M"
      },
      "execution_count": null,
      "outputs": []
    },
    {
      "cell_type": "code",
      "source": [
        "print('Meu nome é:')\n",
        "print(nome)\n",
        "print('Minha idade é:')\n",
        "print(idade)\n",
        "print('Moro em:')\n",
        "print(cidade)"
      ],
      "metadata": {
        "colab": {
          "base_uri": "https://localhost:8080/"
        },
        "id": "p3reWqirbJK_",
        "outputId": "0dcc4c87-4daf-4f73-fb6a-1250ebeab058"
      },
      "execution_count": null,
      "outputs": [
        {
          "output_type": "stream",
          "name": "stdout",
          "text": [
            "Meu nome é:\n",
            "Matheus\n",
            "Minha idade é:\n",
            "28\n",
            "Moro em:\n",
            "Rio de Janeiro\n"
          ]
        }
      ]
    },
    {
      "cell_type": "code",
      "source": [
        "# dados primitivos - base da programação em python\n",
        "# string = palavras\n",
        "# int = numeros inteiros\n",
        "# float = numeros decimais\n",
        "# booleano = True e False"
      ],
      "metadata": {
        "id": "H3IXklGXdlvi"
      },
      "execution_count": null,
      "outputs": []
    },
    {
      "cell_type": "code",
      "source": [
        "# operadores aritméticos\n",
        "# soma +\n",
        "# subtração -\n",
        "# multiplicação *\n",
        "# divisão /\n",
        "# divisão inteira //\n",
        "# percentual ( informa o resto da divisão) %\n",
        "# exponenciação **\n"
      ],
      "metadata": {
        "id": "3fWZeUn3eKiq"
      },
      "execution_count": null,
      "outputs": []
    },
    {
      "cell_type": "markdown",
      "source": [
        "Area do Retangulo\n"
      ],
      "metadata": {
        "id": "GbWbqpqFh_0l"
      }
    },
    {
      "cell_type": "code",
      "source": [
        "altura = 4\n",
        "largura = 7\n",
        "area = altura * largura\n",
        "print('A area é:', area)\n",
        "perimetro = 2 * (altura + largura)\n",
        "print('O perimetro é:' , perimetro)"
      ],
      "metadata": {
        "colab": {
          "base_uri": "https://localhost:8080/"
        },
        "id": "rUpek004erlI",
        "outputId": "5e84fdeb-e8f1-47ba-e22c-b3d5fef95ece"
      },
      "execution_count": null,
      "outputs": [
        {
          "output_type": "stream",
          "name": "stdout",
          "text": [
            "A area é: 28\n",
            "O perimetro é: 22\n"
          ]
        }
      ]
    },
    {
      "cell_type": "markdown",
      "source": [
        "Calculadora"
      ],
      "metadata": {
        "id": "uFJlQeizihO0"
      }
    },
    {
      "cell_type": "code",
      "source": [
        "x = 10\n",
        "y = 3\n",
        "print('soma:' , x + y)\n",
        "print('subtração:' , x - y)\n",
        "print('multiplicação:' , x * y)\n",
        "print('divisão:' , x / y)\n",
        "print('divisão inteira:' , x // y)\n",
        "print('resto da divisão:' , x % y)"
      ],
      "metadata": {
        "colab": {
          "base_uri": "https://localhost:8080/"
        },
        "id": "SvA13M1vilFh",
        "outputId": "1e5b2fbd-0e6b-4694-8285-d0b264c7ccf9"
      },
      "execution_count": null,
      "outputs": [
        {
          "output_type": "stream",
          "name": "stdout",
          "text": [
            "soma: 13\n",
            "subtração: 7\n",
            "multiplicação: 30\n",
            "divisão: 3.3333333333333335\n",
            "divisão inteira: 3\n",
            "resto da divisão: 1\n"
          ]
        }
      ]
    },
    {
      "cell_type": "code",
      "source": [
        "# OPERADORES RELACIONAIS\n",
        "# igualdade ==\n",
        "# diferente !=\n",
        "# maior que >\n",
        "# maior ou igual >=\n",
        "# menor que <\n",
        "# menor ou igual <=\n"
      ],
      "metadata": {
        "id": "RtSmKqMSkRVw"
      },
      "execution_count": null,
      "outputs": []
    },
    {
      "cell_type": "markdown",
      "source": [
        "Comparando Idades"
      ],
      "metadata": {
        "id": "kOpEke_NkxvA"
      }
    },
    {
      "cell_type": "code",
      "source": [
        "Mauricio = 25\n",
        "Rafael = 12\n",
        "idades_iguais = (Mauricio == Rafael)\n",
        "print('As idades são iguais:', idades_iguais)"
      ],
      "metadata": {
        "colab": {
          "base_uri": "https://localhost:8080/"
        },
        "id": "39nPUEP9k0iL",
        "outputId": "6a138997-7c3e-453a-e147-7e673f10d17c"
      },
      "execution_count": null,
      "outputs": [
        {
          "output_type": "stream",
          "name": "stdout",
          "text": [
            "As idades são iguais: False\n"
          ]
        }
      ]
    },
    {
      "cell_type": "markdown",
      "source": [
        "Calculadora IMC"
      ],
      "metadata": {
        "id": "RVnrSEhdlV2g"
      }
    },
    {
      "cell_type": "code",
      "source": [
        "Altura = 1.87\n",
        "peso = 95\n",
        "IMC = peso // (Altura ** 2)\n",
        "print('O IMC é:', IMC)\n",
        "print('IMC Maior que 25:', IMC > 25)\n",
        "print('IMC Menor que 18:', IMC < 18)"
      ],
      "metadata": {
        "colab": {
          "base_uri": "https://localhost:8080/"
        },
        "id": "2DzuGH2WlNZe",
        "outputId": "58dbbdd7-78c9-4985-e1b3-93a9cedd628f"
      },
      "execution_count": null,
      "outputs": [
        {
          "output_type": "stream",
          "name": "stdout",
          "text": [
            "O IMC é: 27.0\n",
            "IMC Maior que 25: True\n",
            "IMC Menor que 18: False\n"
          ]
        }
      ]
    },
    {
      "cell_type": "markdown",
      "source": [
        "Par ou Impar ?\n"
      ],
      "metadata": {
        "id": "Uq01L9v3mLnF"
      }
    },
    {
      "cell_type": "code",
      "source": [
        "x = 4\n",
        "resto_divisao = x % 2\n",
        "print('O resto da divisão é:', resto_divisao)\n",
        "print('O numero é par:', resto_divisao == 0)"
      ],
      "metadata": {
        "colab": {
          "base_uri": "https://localhost:8080/"
        },
        "id": "k4b5_TFjmMks",
        "outputId": "2023f62d-414b-496a-a9f1-d24a54b2c1f7"
      },
      "execution_count": null,
      "outputs": [
        {
          "output_type": "stream",
          "name": "stdout",
          "text": [
            "O resto da divisão é: 0\n",
            "O numero é par: True\n"
          ]
        }
      ]
    },
    {
      "cell_type": "code",
      "source": [
        "# Operadores Lógicos\n",
        "# and = retorna True quando ambos valores são True\n",
        "# or = retorna True se pelo menos um valor for True\n",
        "vai_chover = True\n",
        "tenho_guardachuva = False\n",
        "nao_preciso_guardachuva = not vai_chover\n",
        "print(nao_preciso_guardachuva and vai_chover)"
      ],
      "metadata": {
        "colab": {
          "base_uri": "https://localhost:8080/"
        },
        "id": "mrrI7H2Bgx0A",
        "outputId": "d0fd6f1e-7eb1-46f7-aa9b-66f978f400bc"
      },
      "execution_count": null,
      "outputs": [
        {
          "output_type": "stream",
          "name": "stdout",
          "text": [
            "False\n"
          ]
        }
      ]
    },
    {
      "cell_type": "code",
      "source": [
        "aluno_presente = True\n",
        "fez_trabalho = False\n",
        "print(aluno_presente or fez_trabalho)"
      ],
      "metadata": {
        "colab": {
          "base_uri": "https://localhost:8080/"
        },
        "id": "2ZiAr4ylikug",
        "outputId": "f66b1a4b-1074-41ad-ebcb-7d68b8af65f8"
      },
      "execution_count": null,
      "outputs": [
        {
          "output_type": "stream",
          "name": "stdout",
          "text": [
            "True\n"
          ]
        }
      ]
    },
    {
      "cell_type": "code",
      "source": [
        "# conversão de tipos\n",
        "idade = \"30\"\n",
        "print(type(idade))\n",
        "idade = int(idade)\n",
        "print(type(idade))"
      ],
      "metadata": {
        "colab": {
          "base_uri": "https://localhost:8080/"
        },
        "id": "jJvU29wUkgqK",
        "outputId": "45773426-73fb-4247-91db-ae77bda03a66"
      },
      "execution_count": null,
      "outputs": [
        {
          "output_type": "stream",
          "name": "stdout",
          "text": [
            "<class 'str'>\n",
            "<class 'int'>\n"
          ]
        }
      ]
    },
    {
      "cell_type": "code",
      "source": [
        "# Funçãi Input\n",
        "nome = str(input('Qual o seu nome? '))\n",
        "print('Olá', nome)\n",
        "print(type(nome))"
      ],
      "metadata": {
        "colab": {
          "base_uri": "https://localhost:8080/"
        },
        "id": "K2kweH8xlkNB",
        "outputId": "d6f326e9-ce78-4782-9853-7c6b6051f7c4"
      },
      "execution_count": null,
      "outputs": [
        {
          "output_type": "stream",
          "name": "stdout",
          "text": [
            "Qual o seu nome? matheus\n",
            "Olá matheus\n",
            "<class 'str'>\n"
          ]
        }
      ]
    },
    {
      "cell_type": "code",
      "source": [
        "# F-Strings\n",
        "a=10\n",
        "b=5\n",
        "soma=a+b\n",
        "print(f'A soma é {soma}')"
      ],
      "metadata": {
        "colab": {
          "base_uri": "https://localhost:8080/"
        },
        "id": "mJXxVuqmmPI0",
        "outputId": "2fc48825-dfdd-4e59-8c7f-e156fe5c7baa"
      },
      "execution_count": null,
      "outputs": [
        {
          "output_type": "stream",
          "name": "stdout",
          "text": [
            "A soma é 15\n"
          ]
        }
      ]
    },
    {
      "cell_type": "code",
      "source": [
        "valor_monetario = 143.4545\n",
        "print(f'Valor em reais: R$ {valor_monetario:.2f}')"
      ],
      "metadata": {
        "colab": {
          "base_uri": "https://localhost:8080/"
        },
        "id": "aZZF56WDrz26",
        "outputId": "f7ccb201-ea19-4dbe-d634-2469ded4ab4a"
      },
      "execution_count": null,
      "outputs": [
        {
          "output_type": "stream",
          "name": "stdout",
          "text": [
            "Valor em reais: R$ 143.45\n"
          ]
        }
      ]
    },
    {
      "cell_type": "code",
      "source": [
        "Nome=input('Qual é o seu nome?')\n",
        "city=input('Qual é a sua cidade?')\n",
        "print(f'Seu nome é {Nome} e você mora em {city}')"
      ],
      "metadata": {
        "id": "_lLats4XsHkP"
      },
      "execution_count": null,
      "outputs": []
    }
  ]
}